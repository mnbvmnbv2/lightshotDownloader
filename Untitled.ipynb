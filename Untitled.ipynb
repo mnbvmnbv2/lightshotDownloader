{
 "cells": [
  {
   "cell_type": "code",
   "execution_count": null,
   "id": "79fa0850",
   "metadata": {},
   "outputs": [],
   "source": [
    "#\"http://prntscr.com/xxxxx\"\n",
    "#\"http://prnt.sc/xxxxx\"\n",
    "#src=\"https://i.imgur.com/xxxxx.png\"/>\n",
    "#.jpg\n",
    "#https://image.prntscr.com/image/xxxxxxxxxxxxxxxxxxx.png"
   ]
  },
  {
   "cell_type": "code",
   "execution_count": null,
   "id": "fb8e0b6a",
   "metadata": {},
   "outputs": [],
   "source": [
    "import re\n",
    "import io\n",
    "from requests_html import HTMLSession\n",
    "import shutil\n",
    "from bs4 import BeautifulSoup\n",
    "import nest_asyncio"
   ]
  },
  {
   "cell_type": "code",
   "execution_count": null,
   "id": "833ec6f1",
   "metadata": {},
   "outputs": [],
   "source": [
    "with io.open(\"bookmarks.html\",'r',encoding='utf8') as f:\n",
    "    bookmarks = f.read()\n",
    "    links = re.findall(\"http://prntscr.com/[a-zA-z0-9]+|http://prnt.sc/[a-zA-z0-9]+\", bookmarks)\n",
    "    print(len(links))"
   ]
  },
  {
   "cell_type": "code",
   "execution_count": null,
   "id": "89051627",
   "metadata": {},
   "outputs": [],
   "source": [
    "i = 0\n",
    "for link in links:\n",
    "    i += 1\n",
    "    nest_asyncio.apply()\n",
    "\n",
    "    session = HTMLSession()\n",
    "    r = session.get(link)\n",
    "\n",
    "    html_str = r.text\n",
    "    soup = BeautifulSoup(html_str, 'html.parser')\n",
    "    imgLink = re.findall(\"i.imgur.com/[a-zA-z0-9]+.png|i.imgur.com/[a-zA-z0-9]+.jpg|image.prntscr.com/image/[a-zA-z0-9]+.png|image.prntscr.com/image/[a-zA-z0-9]+.jpg\", str(soup))\n",
    "    if len(imgLink) > 0:\n",
    "        print(i,imgLink[0])\n",
    "        image_url = \"http://\"+imgLink[0]+\"?\"\n",
    "\n",
    "        filename = 'pictures/'+str(i)+\".png\"\n",
    "\n",
    "        session = HTMLSession()\n",
    "        r = session.get(image_url, stream = True)\n",
    "\n",
    "        if r.status_code == 200:\n",
    "            r.raw.decode_content = True\n",
    "\n",
    "            with open(filename,'wb') as f:\n",
    "                shutil.copyfileobj(r.raw, f)"
   ]
  }
 ],
 "metadata": {
  "kernelspec": {
   "display_name": "Python 3 (ipykernel)",
   "language": "python",
   "name": "python3"
  },
  "language_info": {
   "codemirror_mode": {
    "name": "ipython",
    "version": 3
   },
   "file_extension": ".py",
   "mimetype": "text/x-python",
   "name": "python",
   "nbconvert_exporter": "python",
   "pygments_lexer": "ipython3",
   "version": "3.10.2"
  }
 },
 "nbformat": 4,
 "nbformat_minor": 5
}
